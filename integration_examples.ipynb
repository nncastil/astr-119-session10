{
 "cells": [
  {
   "cell_type": "markdown",
   "metadata": {},
   "source": [
    "## ordinary differential equations\n",
    "\n",
    "numerical integration\n",
    "    \n",
    "    gives numerical representation of a function in tabulated form in some dimension, integrates orbits\n",
    "    (modeling stars and dark matter, calculating acceleration w a force equation)\n",
    "    using high order approx of f(x) over interval [xi+1,xi] for integral F(a,b)\n",
    "    \n",
    "- trapezoid method (slide 6)\n",
    "- simpson's rule (slide 7), treated as a parabola\n",
    "- romberg integration (slide 8-11), until it reaches a tolerance, weighted sum times the width"
   ]
  },
  {
   "cell_type": "code",
   "execution_count": null,
   "metadata": {},
   "outputs": [],
   "source": [
    "%matplotlib inline\n",
    "import numpy as np\n",
    "import matplotlib.pyplot as plt"
   ]
  },
  {
   "cell_type": "code",
   "execution_count": null,
   "metadata": {},
   "outputs": [],
   "source": [
    "def func(x):\n",
    "    a = 1.01\n",
    "    b = -3.04\n",
    "    c = 2.07\n",
    "    return a*x**2 + b*x + c"
   ]
  },
  {
   "cell_type": "code",
   "execution_count": null,
   "metadata": {},
   "outputs": [],
   "source": [
    "def func_integral(x):\n",
    "    a = 1.01\n",
    "    b = -3.04\n",
    "    c = 2.07\n",
    "    return (a*x**3)/3. + (b*x**2)/2. + c*x     #makes sure denominators are def as floats"
   ]
  },
  {
   "cell_type": "markdown",
   "metadata": {},
   "source": [
    "trapezoid method"
   ]
  },
  {
   "cell_type": "code",
   "execution_count": null,
   "metadata": {},
   "outputs": [],
   "source": [
    "#define the core, simplest part of the function that is testable (integral of trapezoid)\n",
    "\n",
    "def trapezoid_core(f,x,h):\n",
    "    return 0.5*h*(f(x+h) + f(x))     #f is function, x is lef side, h is right side (width)"
   ]
  },
  {
   "cell_type": "code",
   "execution_count": null,
   "metadata": {},
   "outputs": [],
   "source": [
    "#define a wrapper (driving) function to perform trapezoid method\n",
    "\n",
    "def trapezoid_method(f,a,b,N):\n",
    "    #f = function to integrate\n",
    "    #a = lower limit\n",
    "    #b = upper limit\n",
    "    #N = number of evaluations\n",
    "    \n",
    "    #define x values to perform trap method\n",
    "    x = np.linspace(a,b,N)\n",
    "    h = x[1]-x[0]\n",
    "    \n",
    "    #define value of integral (F integer)\n",
    "    Fint = 0.0\n",
    "    \n",
    "    #perform integral\n",
    "    for i in range(0,len(x)-1,1):           \n",
    "        Fint += trapezoid_core(f,x[i],h)    #prints (i,i+1,x[i],x[i]+h,x[-2],x[-1])\n",
    "        \n",
    "    return Fint"
   ]
  },
  {
   "cell_type": "markdown",
   "metadata": {},
   "source": [
    "simpson's method (parabolic interpolation)"
   ]
  },
  {
   "cell_type": "code",
   "execution_count": null,
   "metadata": {},
   "outputs": [],
   "source": [
    "def simpson_core(f,x,h):\n",
    "    return h*( f(x) + 4*f(x+h) + f(x+2*h))/3."
   ]
  },
  {
   "cell_type": "code",
   "execution_count": null,
   "metadata": {},
   "outputs": [],
   "source": [
    "def simpsons_method(f,a,b,N):\n",
    "    #if N is even, then the number of chunks is odd, we have to adjust the last segment\n",
    "    \n",
    "    x = np.linspace(a,b,N)\n",
    "    h = x[1]-x[0]\n",
    "    \n",
    "    Fint = 0.0\n",
    "    \n",
    "    for i in range(0,len(x)-2,2):              #N-3 inclusive in steps of 2\n",
    "        Fint += simpson_core(f,x[i],h)\n",
    "        \n",
    "    #apply simpson's rule over the last interval if N is even\n",
    "    if((N%2)==0):\n",
    "        Fint += simpson_core(f,x[-2],0.5*h)    #split the last interval in half"
   ]
  },
  {
   "cell_type": "markdown",
   "metadata": {},
   "source": [
    "romberg integration"
   ]
  },
  {
   "cell_type": "code",
   "execution_count": null,
   "metadata": {},
   "outputs": [],
   "source": [
    "def romberg_core(f,a,b,I,i):\n",
    "    #I = array of integrations\n",
    "    #i = current iteration\n",
    "    \n",
    "    #we need the difference btwn b-a\n",
    "    h = b-a\n",
    "    \n",
    "    #increment btwn new func evals\n",
    "    dh = h/2.**(i)\n",
    "    \n",
    "    #cofactor\n",
    "    K = h/2.**(i+1)\n",
    "    \n",
    "    #and function evaluations\n",
    "    M = 0.0\n",
    "    for j in range(2**1):\n",
    "        M += f(a + 0.5*dh + j*dh)  # func (far left + half current width + current width)\n",
    "        \n",
    "    #return answer\n",
    "    return K*M"
   ]
  },
  {
   "cell_type": "code",
   "execution_count": null,
   "metadata": {},
   "outputs": [],
   "source": [
    "#wrapper function\n",
    "\n",
    "def romberg_integration(f,a,b,tol):\n",
    "    \n",
    "    #iteration variable\n",
    "    i = 0\n",
    "    \n",
    "    #max number of iterations\n",
    "    imax = 1000\n",
    "    \n",
    "    #error estimate, set to large value\n",
    "    delta = 100.0*np.fabs(tol)         #iterate until tolerance, f absolute value\n",
    "    \n",
    "    #array of integral answers\n",
    "    I = np.zeros(imax,dtype=float)     #array of imax, type float\n",
    "    \n",
    "    #get the zeroth romberh iteration\n",
    "    I[0] = 0.5*(b-a)*(f(a) + f(b))\n",
    "    \n",
    "    #iterate by 1\n",
    "    i += 1\n",
    "    \n",
    "    while(delta>tol):\n",
    "        \n",
    "        #while delta is larger than tolderance, we find this romberg iteration\n",
    "        I[i] = 0.5*I[i-1] + romberg_core(f,a,b,I,i)\n",
    "        \n",
    "        #compute new fractional error estimate\n",
    "        delta = np.fabs( (I[i]-I[i-1])/I[i] )\n",
    "        \n",
    "        print(i,I[i],I[i-1],delta)\n",
    "        \n",
    "        if(delta>tol):\n",
    "            \n",
    "            #iterate\n",
    "            i += 1\n",
    "            \n",
    "            #if we reached max iterations \n",
    "            if (i>imax):\n",
    "                print(\"Max iterations reached.\")\n",
    "                raise StopIteration('Stopping iterations after', i)\n",
    "                \n",
    "    return I[i]"
   ]
  },
  {
   "cell_type": "code",
   "execution_count": null,
   "metadata": {},
   "outputs": [],
   "source": [
    "Answer = func_integral(1)-func_integral(0)\n",
    "print(Answer)\n",
    "print(\"trapezoid\")\n",
    "print(trapezoid_method(func,0,1,10))\n",
    "print(\"simpson's method\")\n",
    "print(simpsons_method(func,0,1,10))\n",
    "print(\"romberg\")\n",
    "tolerance = 1.0e-6\n",
    "RI = romberg_integration(func,0,1,tolerance)\n",
    "print(RI, (RI-Answer)/Answer, tolerance)"
   ]
  },
  {
   "cell_type": "code",
   "execution_count": null,
   "metadata": {},
   "outputs": [],
   "source": []
  }
 ],
 "metadata": {
  "kernelspec": {
   "display_name": "Python 3",
   "language": "python",
   "name": "python3"
  },
  "language_info": {
   "codemirror_mode": {
    "name": "ipython",
    "version": 3
   },
   "file_extension": ".py",
   "mimetype": "text/x-python",
   "name": "python",
   "nbconvert_exporter": "python",
   "pygments_lexer": "ipython3",
   "version": "3.6.5"
  }
 },
 "nbformat": 4,
 "nbformat_minor": 2
}
